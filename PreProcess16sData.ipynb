{
 "cells": [
  {
   "cell_type": "markdown",
   "metadata": {},
   "source": [
    "### Preprocess V4 reads"
   ]
  },
  {
   "cell_type": "code",
   "execution_count": 1,
   "metadata": {},
   "outputs": [],
   "source": [
    "import glob\n",
    "import pandas as pd\n",
    "from Bio import SeqIO\n",
    "from gzip import open as gopen\n",
    "from collections import Counter"
   ]
  },
  {
   "cell_type": "markdown",
   "metadata": {},
   "source": [
    "**Remove primers**"
   ]
  },
  {
   "cell_type": "code",
   "execution_count": 2,
   "metadata": {},
   "outputs": [],
   "source": [
    "!mkdir -p cut_reads\n",
    "\n",
    "for f in glob.glob('raw_reads/*_S*_L001_R*_001.fastq.gz'):\n",
    "    outf = 'cut_reads/%s' % f.split('/')[-1]\n",
    "    smpl = f.split('/')[-1].split('_')[0]\n",
    "    records = SeqIO.parse(gopen(f,'rt'),'fastq')\n",
    "    with gopen(outf,'wt') as hndl:\n",
    "        for r in records:\n",
    "            \n",
    "            # Skip low quality reads\n",
    "            counts = Counter(str(r[110:150].seq).upper())\n",
    "            proportions = {i: counts[i]/sum(counts.values()) for i in counts.keys()}\n",
    "            if any([proportions[i] > 0.5 for i in proportions.keys()]):\n",
    "                continue\n",
    "                \n",
    "            hndl.write(r[20:150].format('fastq'))"
   ]
  },
  {
   "cell_type": "markdown",
   "metadata": {},
   "source": [
    "**Merge reads**"
   ]
  },
  {
   "cell_type": "code",
   "execution_count": 3,
   "metadata": {},
   "outputs": [
    {
     "name": "stdout",
     "output_type": "stream",
     "text": [
      "Tank-13B\n"
     ]
    },
    {
     "data": {
      "text/html": [
       "<div>\n",
       "<style scoped>\n",
       "    .dataframe tbody tr th:only-of-type {\n",
       "        vertical-align: middle;\n",
       "    }\n",
       "\n",
       "    .dataframe tbody tr th {\n",
       "        vertical-align: top;\n",
       "    }\n",
       "\n",
       "    .dataframe thead th {\n",
       "        text-align: right;\n",
       "    }\n",
       "</style>\n",
       "<table border=\"1\" class=\"dataframe\">\n",
       "  <thead>\n",
       "    <tr style=\"text-align: right;\">\n",
       "      <th></th>\n",
       "      <th>R1_count</th>\n",
       "      <th>R2_count</th>\n",
       "      <th>R1_mode_length</th>\n",
       "      <th>R1_count_at_mode_length</th>\n",
       "      <th>R2_mode_length</th>\n",
       "      <th>R2_count_at_mode_length</th>\n",
       "      <th>Mode_overlap</th>\n",
       "      <th>Count_at_mode_overlap</th>\n",
       "    </tr>\n",
       "  </thead>\n",
       "  <tbody>\n",
       "    <tr>\n",
       "      <th>AS2014</th>\n",
       "      <td>16994</td>\n",
       "      <td>16737</td>\n",
       "      <td>130</td>\n",
       "      <td>16994</td>\n",
       "      <td>130</td>\n",
       "      <td>16672</td>\n",
       "      <td>8</td>\n",
       "      <td>14023</td>\n",
       "    </tr>\n",
       "    <tr>\n",
       "      <th>AS2082</th>\n",
       "      <td>36080</td>\n",
       "      <td>36189</td>\n",
       "      <td>130</td>\n",
       "      <td>36080</td>\n",
       "      <td>130</td>\n",
       "      <td>35308</td>\n",
       "      <td>8</td>\n",
       "      <td>27719</td>\n",
       "    </tr>\n",
       "    <tr>\n",
       "      <th>Tank-2C</th>\n",
       "      <td>19112</td>\n",
       "      <td>19285</td>\n",
       "      <td>130</td>\n",
       "      <td>19112</td>\n",
       "      <td>130</td>\n",
       "      <td>18842</td>\n",
       "      <td>8</td>\n",
       "      <td>15469</td>\n",
       "    </tr>\n",
       "    <tr>\n",
       "      <th>AS2075</th>\n",
       "      <td>20743</td>\n",
       "      <td>20628</td>\n",
       "      <td>130</td>\n",
       "      <td>20743</td>\n",
       "      <td>130</td>\n",
       "      <td>20435</td>\n",
       "      <td>8</td>\n",
       "      <td>17617</td>\n",
       "    </tr>\n",
       "    <tr>\n",
       "      <th>AS2160</th>\n",
       "      <td>19792</td>\n",
       "      <td>19785</td>\n",
       "      <td>130</td>\n",
       "      <td>19792</td>\n",
       "      <td>130</td>\n",
       "      <td>19384</td>\n",
       "      <td>8</td>\n",
       "      <td>16245</td>\n",
       "    </tr>\n",
       "    <tr>\n",
       "      <th>...</th>\n",
       "      <td>...</td>\n",
       "      <td>...</td>\n",
       "      <td>...</td>\n",
       "      <td>...</td>\n",
       "      <td>...</td>\n",
       "      <td>...</td>\n",
       "      <td>...</td>\n",
       "      <td>...</td>\n",
       "    </tr>\n",
       "    <tr>\n",
       "      <th>AS2053</th>\n",
       "      <td>19038</td>\n",
       "      <td>19594</td>\n",
       "      <td>130</td>\n",
       "      <td>19038</td>\n",
       "      <td>130</td>\n",
       "      <td>18784</td>\n",
       "      <td>8</td>\n",
       "      <td>16371</td>\n",
       "    </tr>\n",
       "    <tr>\n",
       "      <th>AS2027</th>\n",
       "      <td>19872</td>\n",
       "      <td>19570</td>\n",
       "      <td>130</td>\n",
       "      <td>19872</td>\n",
       "      <td>130</td>\n",
       "      <td>19516</td>\n",
       "      <td>8</td>\n",
       "      <td>16415</td>\n",
       "    </tr>\n",
       "    <tr>\n",
       "      <th>AS2140</th>\n",
       "      <td>20159</td>\n",
       "      <td>20542</td>\n",
       "      <td>130</td>\n",
       "      <td>20159</td>\n",
       "      <td>130</td>\n",
       "      <td>19830</td>\n",
       "      <td>8</td>\n",
       "      <td>17236</td>\n",
       "    </tr>\n",
       "    <tr>\n",
       "      <th>AS2052</th>\n",
       "      <td>39063</td>\n",
       "      <td>38939</td>\n",
       "      <td>130</td>\n",
       "      <td>39063</td>\n",
       "      <td>130</td>\n",
       "      <td>38127</td>\n",
       "      <td>8</td>\n",
       "      <td>30735</td>\n",
       "    </tr>\n",
       "    <tr>\n",
       "      <th>AS2212</th>\n",
       "      <td>8961</td>\n",
       "      <td>8884</td>\n",
       "      <td>130</td>\n",
       "      <td>8961</td>\n",
       "      <td>130</td>\n",
       "      <td>8866</td>\n",
       "      <td>8</td>\n",
       "      <td>7211</td>\n",
       "    </tr>\n",
       "  </tbody>\n",
       "</table>\n",
       "<p>188 rows × 8 columns</p>\n",
       "</div>"
      ],
      "text/plain": [
       "        R1_count R2_count R1_mode_length R1_count_at_mode_length  \\\n",
       "AS2014     16994    16737            130                   16994   \n",
       "AS2082     36080    36189            130                   36080   \n",
       "Tank-2C    19112    19285            130                   19112   \n",
       "AS2075     20743    20628            130                   20743   \n",
       "AS2160     19792    19785            130                   19792   \n",
       "...          ...      ...            ...                     ...   \n",
       "AS2053     19038    19594            130                   19038   \n",
       "AS2027     19872    19570            130                   19872   \n",
       "AS2140     20159    20542            130                   20159   \n",
       "AS2052     39063    38939            130                   39063   \n",
       "AS2212      8961     8884            130                    8961   \n",
       "\n",
       "        R2_mode_length R2_count_at_mode_length Mode_overlap  \\\n",
       "AS2014             130                   16672            8   \n",
       "AS2082             130                   35308            8   \n",
       "Tank-2C            130                   18842            8   \n",
       "AS2075             130                   20435            8   \n",
       "AS2160             130                   19384            8   \n",
       "...                ...                     ...          ...   \n",
       "AS2053             130                   18784            8   \n",
       "AS2027             130                   19516            8   \n",
       "AS2140             130                   19830            8   \n",
       "AS2052             130                   38127            8   \n",
       "AS2212             130                    8866            8   \n",
       "\n",
       "        Count_at_mode_overlap  \n",
       "AS2014                  14023  \n",
       "AS2082                  27719  \n",
       "Tank-2C                 15469  \n",
       "AS2075                  17617  \n",
       "AS2160                  16245  \n",
       "...                       ...  \n",
       "AS2053                  16371  \n",
       "AS2027                  16415  \n",
       "AS2140                  17236  \n",
       "AS2052                  30735  \n",
       "AS2212                   7211  \n",
       "\n",
       "[188 rows x 8 columns]"
      ]
     },
     "execution_count": 3,
     "metadata": {},
     "output_type": "execute_result"
    }
   ],
   "source": [
    "!mkdir -p merged\n",
    "\n",
    "df = pd.DataFrame(columns=['R1_count','R2_count',\n",
    "                           'R1_mode_length','R1_count_at_mode_length',\n",
    "                           'R2_mode_length','R2_count_at_mode_length',\n",
    "                           'Mode_overlap','Count_at_mode_overlap'])\n",
    "\n",
    "for f1 in glob.glob('cut_reads/*_S*_L001_R1_001.fastq.gz'):\n",
    "    f2 = f1.replace('_R1_','_R2_')\n",
    "    \n",
    "    smpl = f1.split('/')[-1].split('_')[0]\n",
    "    \n",
    "    merged = gopen('merged/%s' % f1.split('/')[-1], 'wt')\n",
    "\n",
    "    r1s = list(SeqIO.parse(gopen(f1,'rt'),'fastq'))\n",
    "    r2s = SeqIO.to_dict(SeqIO.parse(gopen(f2,'rt'),'fastq'))\n",
    "    \n",
    "    count_r1 = len(r1s)\n",
    "    count_r2 = len(r2s)\n",
    "    \n",
    "    overlapps = []\n",
    "    r1_lengths= []\n",
    "    r2_lengths= []\n",
    "    \n",
    "    for r1 in r1s:\n",
    "        r1seq = str(r1.seq)\n",
    "        r1_lengths.append(len(r1))\n",
    "        try:\n",
    "            r2seq = str(r2s[r1.id].seq.reverse_complement())\n",
    "        except:\n",
    "            continue\n",
    "        r2_lengths.append(len(r2seq))\n",
    "        over_len = 30\n",
    "        r1_window = r1seq[-1*over_len:]\n",
    "        r2_window = r2seq[:over_len]\n",
    "        while over_len > 0 and r1_window != r2_window:\n",
    "            over_len -= 1\n",
    "            r1_window = r1seq[-1*over_len:]\n",
    "            r2_window = r2seq[:over_len]\n",
    "        overlapps.append(over_len)\n",
    "        if over_len > 5:\n",
    "            r2 = r2s[r1.id]\n",
    "            m = r1 + r2.reverse_complement()[over_len:]\n",
    "            m.id = r1.id\n",
    "            m.description = r1.description\n",
    "            merged.write(m.format('fastq'))\n",
    "    merged.close()        \n",
    "    if len(overlapps) == 0:\n",
    "        print( smpl)\n",
    "        continue\n",
    "            \n",
    "    ovlp_mode, ovlp_count_at_mode = sorted(Counter(overlapps).items(), key=lambda k: k[1], reverse=True)[0]\n",
    "    r1len_mode, r1len_count_at_mode = sorted(Counter(r1_lengths).items(), key=lambda k: k[1], reverse=True)[0]\n",
    "    r2len_mode, r2len_count_at_mode = sorted(Counter(r2_lengths).items(), key=lambda k: k[1], reverse=True)[0]\n",
    "    df.loc[smpl] = [count_r1,count_r2,r1len_mode,r1len_count_at_mode,r2len_mode,r2len_count_at_mode,ovlp_mode,ovlp_count_at_mode]\n",
    "df"
   ]
  },
  {
   "cell_type": "code",
   "execution_count": 4,
   "metadata": {},
   "outputs": [],
   "source": [
    "df.to_csv('metadata/read_merging_stas.tsv', sep='\\t')"
   ]
  },
  {
   "cell_type": "markdown",
   "metadata": {},
   "source": [
    "**Format as qiime2 archive**"
   ]
  },
  {
   "cell_type": "code",
   "execution_count": 5,
   "metadata": {},
   "outputs": [
    {
     "name": "stdout",
     "output_type": "stream",
     "text": [
      "\u001b[32mImported merged as CasavaOneEightSingleLanePerSampleDirFmt to merged/demux.qza\u001b[0m\n"
     ]
    }
   ],
   "source": [
    "!qiime tools import \\\n",
    "  --type 'SampleData[SequencesWithQuality]' \\\n",
    "  --input-path merged \\\n",
    "  --input-format CasavaOneEightSingleLanePerSampleDirFmt \\\n",
    "  --output-path merged/demux.qza"
   ]
  },
  {
   "cell_type": "markdown",
   "metadata": {},
   "source": [
    "**Run dada**  \n",
    "No need to trim, primers were already removed"
   ]
  },
  {
   "cell_type": "code",
   "execution_count": 6,
   "metadata": {},
   "outputs": [
    {
     "name": "stdout",
     "output_type": "stream",
     "text": [
      "\u001b[32mSaved FeatureTable[Frequency] to: dada/table.qza\u001b[0m\n",
      "\u001b[32mSaved FeatureData[Sequence] to: dada/rep-seqs.qza\u001b[0m\n",
      "\u001b[32mSaved SampleData[DADA2Stats] to: dada/stats.qza\u001b[0m\n"
     ]
    }
   ],
   "source": [
    "!mkdir -p dada\n",
    "!qiime dada2 denoise-single \\\n",
    "  --i-demultiplexed-seqs merged/demux.qza \\\n",
    "  --p-trim-left 0 \\\n",
    "  --p-trunc-len 250 \\\n",
    "  --p-max-ee 5.0 \\\n",
    "  --o-representative-sequences dada/rep-seqs.qza \\\n",
    "  --o-table dada/table.qza \\\n",
    "  --o-denoising-stats dada/stats.qza"
   ]
  },
  {
   "cell_type": "code",
   "execution_count": 7,
   "metadata": {},
   "outputs": [
    {
     "name": "stdout",
     "output_type": "stream",
     "text": [
      "--2021-04-02 15:40:13--  https://data.qiime2.org/2020.11/common/silva-138-99-515-806-nb-classifier.qza\n",
      "Resolving data.qiime2.org (data.qiime2.org)... 54.200.1.12\n",
      "Connecting to data.qiime2.org (data.qiime2.org)|54.200.1.12|:443... connected.\n",
      "HTTP request sent, awaiting response... 302 FOUND\n",
      "Location: https://s3-us-west-2.amazonaws.com/qiime2-data/2020.11/common/silva-138-99-515-806-nb-classifier.qza [following]\n",
      "--2021-04-02 15:40:14--  https://s3-us-west-2.amazonaws.com/qiime2-data/2020.11/common/silva-138-99-515-806-nb-classifier.qza\n",
      "Resolving s3-us-west-2.amazonaws.com (s3-us-west-2.amazonaws.com)... 52.218.185.216\n",
      "Connecting to s3-us-west-2.amazonaws.com (s3-us-west-2.amazonaws.com)|52.218.185.216|:443... connected.\n",
      "HTTP request sent, awaiting response... 200 OK\n",
      "Length: 153517385 (146M) [binary/octet-stream]\n",
      "Saving to: ‘silva-138-99-515-806-nb-classifier.qza.1’\n",
      "\n",
      "silva-138-99-515-80 100%[===================>] 146.41M  8.51MB/s    in 51s     \n",
      "\n",
      "2021-04-02 15:41:07 (2.86 MB/s) - ‘silva-138-99-515-806-nb-classifier.qza.1’ saved [153517385/153517385]\n",
      "\n",
      "\u001b[32mSaved FeatureData[Taxonomy] to: dada/taxonomy.qza\u001b[0m\n",
      "rm: cannot remove 'silva-138-99-515-806-nb-classifier.qz': No such file or directory\n"
     ]
    }
   ],
   "source": [
    "!wget https://data.qiime2.org/2020.11/common/silva-138-99-515-806-nb-classifier.qza\n",
    "!qiime feature-classifier classify-sklearn \\\n",
    "  --i-classifier silva-138-99-515-806-nb-classifier.qza \\\n",
    "  --i-reads dada/rep-seqs.qza \\\n",
    "  --o-classification dada/taxonomy.qza\n",
    "!rm silva-138-99-515-806-nb-classifier.qz"
   ]
  },
  {
   "cell_type": "markdown",
   "metadata": {},
   "source": [
    "### make tree"
   ]
  },
  {
   "cell_type": "code",
   "execution_count": 8,
   "metadata": {},
   "outputs": [
    {
     "name": "stdout",
     "output_type": "stream",
     "text": [
      "\u001b[32mSaved FeatureData[AlignedSequence] to: dada/aligned-rep-seqs.qza\u001b[0m\n",
      "\u001b[32mSaved FeatureData[AlignedSequence] to: dada/masked-aligned-rep-seqs.qza\u001b[0m\n",
      "\u001b[32mSaved Phylogeny[Unrooted] to: dada/unrooted-tree.qza\u001b[0m\n",
      "\u001b[32mSaved Phylogeny[Rooted] to: dada/rooted-tree.qza\u001b[0m\n"
     ]
    }
   ],
   "source": [
    "!qiime phylogeny align-to-tree-mafft-fasttree \\\n",
    "  --i-sequences dada/rep-seqs.qza \\\n",
    "  --o-alignment dada/aligned-rep-seqs.qza \\\n",
    "  --o-masked-alignment dada/masked-aligned-rep-seqs.qza \\\n",
    "  --o-tree dada/unrooted-tree.qza \\\n",
    "  --o-rooted-tree dada/rooted-tree.qza"
   ]
  },
  {
   "cell_type": "code",
   "execution_count": null,
   "metadata": {},
   "outputs": [],
   "source": []
  }
 ],
 "metadata": {
  "kernelspec": {
   "display_name": "Python 3",
   "language": "python",
   "name": "python3"
  },
  "language_info": {
   "codemirror_mode": {
    "name": "ipython",
    "version": 3
   },
   "file_extension": ".py",
   "mimetype": "text/x-python",
   "name": "python",
   "nbconvert_exporter": "python",
   "pygments_lexer": "ipython3",
   "version": "3.6.12"
  }
 },
 "nbformat": 4,
 "nbformat_minor": 4
}
